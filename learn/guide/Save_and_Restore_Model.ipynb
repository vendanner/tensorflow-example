{
 "cells": [
  {
   "cell_type": "markdown",
   "metadata": {},
   "source": [
    "# save and restore model"
   ]
  },
  {
   "cell_type": "code",
   "execution_count": 1,
   "metadata": {},
   "outputs": [
    {
     "data": {
      "text/plain": [
       "'1.12.0'"
      ]
     },
     "execution_count": 1,
     "metadata": {},
     "output_type": "execute_result"
    }
   ],
   "source": [
    "from __future__ import absolute_import, division, print_function\n",
    "\n",
    "import os\n",
    "\n",
    "import tensorflow as tf\n",
    "from tensorflow import keras\n",
    "import matplotlib.pyplot as plt\n",
    "\n",
    "tf.__version__"
   ]
  },
  {
   "cell_type": "markdown",
   "metadata": {},
   "source": [
    "## 获取数据 "
   ]
  },
  {
   "cell_type": "code",
   "execution_count": 7,
   "metadata": {},
   "outputs": [],
   "source": [
    "(train_data,train_label),(test_data,test_label) = keras.datasets.mnist.load_data()\n",
    "\n",
    "# 获取其中小数据集进行训练和测试\n",
    "train_label = train_label[:1000]\n",
    "test_label = test_label[:1000]\n",
    "\n",
    "train_data = train_data[:1000].reshape(-1,train_data[0].shape[0]*train_data[0].shape[1])/255.0\n",
    "test_data = test_data[:1000].reshape(-1,test_data[0].shape[0]*test_data[0].shape[1])/255.0"
   ]
  },
  {
   "cell_type": "code",
   "execution_count": 8,
   "metadata": {},
   "outputs": [
    {
     "data": {
      "text/plain": [
       "[<matplotlib.lines.Line2D at 0x2e81bf17160>]"
      ]
     },
     "execution_count": 8,
     "metadata": {},
     "output_type": "execute_result"
    },
    {
     "data": {
      "image/png": "[encoded data removed]",
      "text/plain": [
       "<Figure size 432x288 with 1 Axes>"
      ]
     },
     "metadata": {
      "needs_background": "light"
     },
     "output_type": "display_data"
    }
   ],
   "source": [
    "plt.plot(train_data[0])"
   ]
  },
  {
   "cell_type": "markdown",
   "metadata": {},
   "source": [
    "## 定义模型 "
   ]
  },
  {
   "cell_type": "code",
   "execution_count": 20,
   "metadata": {},
   "outputs": [],
   "source": [
    "def build_model():\n",
    "    model = keras.Sequential([\n",
    "        keras.layers.Dense(512,activation = tf.nn.relu,input_shape = (784,)),\n",
    "        keras.layers.Dropout(0.2),\n",
    "        keras.layers.Dense(10,activation = tf.nn.softmax)\n",
    "    ])\n",
    "    \n",
    "    model.compile(optimizer = \"adam\",\n",
    "                 loss = \"sparse_categorical_crossentropy\",\n",
    "                  metrics = ['accuracy']\n",
    "                 )\n",
    "    return model"
   ]
  },
  {
   "cell_type": "code",
   "execution_count": 21,
   "metadata": {},
   "outputs": [
    {
     "name": "stdout",
     "output_type": "stream",
     "text": [
      "_________________________________________________________________\n",
      "Layer (type)                 Output Shape              Param #   \n",
      "=================================================================\n",
      "dense_8 (Dense)              (None, 512)               401920    \n",
      "_________________________________________________________________\n",
      "dropout_4 (Dropout)          (None, 512)               0         \n",
      "_________________________________________________________________\n",
      "dense_9 (Dense)              (None, 10)                5130      \n",
      "=================================================================\n",
      "Total params: 407,050\n",
      "Trainable params: 407,050\n",
      "Non-trainable params: 0\n",
      "_________________________________________________________________\n"
     ]
    }
   ],
   "source": [
    "model = build_model()\n",
    "model.summary()"
   ]
  },
  {
   "cell_type": "markdown",
   "metadata": {},
   "source": [
    "## 在训练期间保存检查点 "
   ]
  },
  {
   "cell_type": "markdown",
   "metadata": {},
   "source": [
    "### 检查点回调用法 "
   ]
  },
  {
   "cell_type": "code",
   "execution_count": 22,
   "metadata": {},
   "outputs": [
    {
     "name": "stdout",
     "output_type": "stream",
     "text": [
      "Train on 1000 samples, validate on 1000 samples\n",
      "Epoch 1/10\n",
      " 928/1000 [==========================>...] - ETA: 0s - loss: 1.2483 - acc: 0.6455\n",
      "Epoch 00001: saving model to train_1/cp.ckpt\n",
      "WARNING:tensorflow:This model was compiled with a Keras optimizer (<tensorflow.python.keras.optimizers.Adam object at 0x000002E825B25400>) but is being saved in TensorFlow format with `save_weights`. The model's weights will be saved, but unlike with TensorFlow optimizers in the TensorFlow format the optimizer's state will not be saved.\n",
      "\n",
      "Consider using a TensorFlow optimizer from `tf.train`.\n",
      "1000/1000 [==============================] - 1s 1ms/step - loss: 1.2123 - acc: 0.6540 - val_loss: 0.7531 - val_acc: 0.7710\n",
      "Epoch 2/10\n",
      " 960/1000 [===========================>..] - ETA: 0s - loss: 0.4422 - acc: 0.8979\n",
      "Epoch 00002: saving model to train_1/cp.ckpt\n",
      "WARNING:tensorflow:This model was compiled with a Keras optimizer (<tensorflow.python.keras.optimizers.Adam object at 0x000002E825B25400>) but is being saved in TensorFlow format with `save_weights`. The model's weights will be saved, but unlike with TensorFlow optimizers in the TensorFlow format the optimizer's state will not be saved.\n",
      "\n",
      "Consider using a TensorFlow optimizer from `tf.train`.\n",
      "1000/1000 [==============================] - 1s 603us/step - loss: 0.4407 - acc: 0.8970 - val_loss: 0.5413 - val_acc: 0.8230\n",
      "Epoch 3/10\n",
      " 928/1000 [==========================>...] - ETA: 0s - loss: 0.2861 - acc: 0.9192\n",
      "Epoch 00003: saving model to train_1/cp.ckpt\n",
      "WARNING:tensorflow:This model was compiled with a Keras optimizer (<tensorflow.python.keras.optimizers.Adam object at 0x000002E825B25400>) but is being saved in TensorFlow format with `save_weights`. The model's weights will be saved, but unlike with TensorFlow optimizers in the TensorFlow format the optimizer's state will not be saved.\n",
      "\n",
      "Consider using a TensorFlow optimizer from `tf.train`.\n",
      "1000/1000 [==============================] - 1s 515us/step - loss: 0.2871 - acc: 0.9180 - val_loss: 0.4674 - val_acc: 0.8480\n",
      "Epoch 4/10\n",
      " 992/1000 [============================>.] - ETA: 0s - loss: 0.1953 - acc: 0.9516\n",
      "Epoch 00004: saving model to train_1/cp.ckpt\n",
      "WARNING:tensorflow:This model was compiled with a Keras optimizer (<tensorflow.python.keras.optimizers.Adam object at 0x000002E825B25400>) but is being saved in TensorFlow format with `save_weights`. The model's weights will be saved, but unlike with TensorFlow optimizers in the TensorFlow format the optimizer's state will not be saved.\n",
      "\n",
      "Consider using a TensorFlow optimizer from `tf.train`.\n",
      "1000/1000 [==============================] - 1s 520us/step - loss: 0.1959 - acc: 0.9510 - val_loss: 0.4293 - val_acc: 0.8590\n",
      "Epoch 5/10\n",
      " 896/1000 [=========================>....] - ETA: 0s - loss: 0.1561 - acc: 0.9632\n",
      "Epoch 00005: saving model to train_1/cp.ckpt\n",
      "WARNING:tensorflow:This model was compiled with a Keras optimizer (<tensorflow.python.keras.optimizers.Adam object at 0x000002E825B25400>) but is being saved in TensorFlow format with `save_weights`. The model's weights will be saved, but unlike with TensorFlow optimizers in the TensorFlow format the optimizer's state will not be saved.\n",
      "\n",
      "Consider using a TensorFlow optimizer from `tf.train`.\n",
      "1000/1000 [==============================] - 1s 541us/step - loss: 0.1533 - acc: 0.9650 - val_loss: 0.4575 - val_acc: 0.8530\n",
      "Epoch 6/10\n",
      " 960/1000 [===========================>..] - ETA: 0s - loss: 0.1276 - acc: 0.9698\n",
      "Epoch 00006: saving model to train_1/cp.ckpt\n",
      "WARNING:tensorflow:This model was compiled with a Keras optimizer (<tensorflow.python.keras.optimizers.Adam object at 0x000002E825B25400>) but is being saved in TensorFlow format with `save_weights`. The model's weights will be saved, but unlike with TensorFlow optimizers in the TensorFlow format the optimizer's state will not be saved.\n",
      "\n",
      "Consider using a TensorFlow optimizer from `tf.train`.\n",
      "1000/1000 [==============================] - 1s 593us/step - loss: 0.1268 - acc: 0.9690 - val_loss: 0.4500 - val_acc: 0.8500\n",
      "Epoch 7/10\n",
      " 928/1000 [==========================>...] - ETA: 0s - loss: 0.0875 - acc: 0.9871\n",
      "Epoch 00007: saving model to train_1/cp.ckpt\n",
      "WARNING:tensorflow:This model was compiled with a Keras optimizer (<tensorflow.python.keras.optimizers.Adam object at 0x000002E825B25400>) but is being saved in TensorFlow format with `save_weights`. The model's weights will be saved, but unlike with TensorFlow optimizers in the TensorFlow format the optimizer's state will not be saved.\n",
      "\n",
      "Consider using a TensorFlow optimizer from `tf.train`.\n",
      "1000/1000 [==============================] - 1s 521us/step - loss: 0.0875 - acc: 0.9870 - val_loss: 0.4560 - val_acc: 0.8570\n",
      "Epoch 8/10\n",
      " 928/1000 [==========================>...] - ETA: 0s - loss: 0.0616 - acc: 0.9914- ETA: 0s - loss: 0.0653 - acc: 0.98\n",
      "Epoch 00008: saving model to train_1/cp.ckpt\n",
      "WARNING:tensorflow:This model was compiled with a Keras optimizer (<tensorflow.python.keras.optimizers.Adam object at 0x000002E825B25400>) but is being saved in TensorFlow format with `save_weights`. The model's weights will be saved, but unlike with TensorFlow optimizers in the TensorFlow format the optimizer's state will not be saved.\n",
      "\n",
      "Consider using a TensorFlow optimizer from `tf.train`.\n",
      "1000/1000 [==============================] - 1s 541us/step - loss: 0.0615 - acc: 0.9920 - val_loss: 0.4206 - val_acc: 0.8660\n",
      "Epoch 9/10\n",
      " 928/1000 [==========================>...] - ETA: 0s - loss: 0.0517 - acc: 0.9978\n",
      "Epoch 00009: saving model to train_1/cp.ckpt\n",
      "WARNING:tensorflow:This model was compiled with a Keras optimizer (<tensorflow.python.keras.optimizers.Adam object at 0x000002E825B25400>) but is being saved in TensorFlow format with `save_weights`. The model's weights will be saved, but unlike with TensorFlow optimizers in the TensorFlow format the optimizer's state will not be saved.\n",
      "\n",
      "Consider using a TensorFlow optimizer from `tf.train`.\n",
      "1000/1000 [==============================] - 1s 517us/step - loss: 0.0504 - acc: 0.9980 - val_loss: 0.4109 - val_acc: 0.8690\n",
      "Epoch 10/10\n",
      " 928/1000 [==========================>...] - ETA: 0s - loss: 0.0359 - acc: 1.0000\n",
      "Epoch 00010: saving model to train_1/cp.ckpt\n",
      "WARNING:tensorflow:This model was compiled with a Keras optimizer (<tensorflow.python.keras.optimizers.Adam object at 0x000002E825B25400>) but is being saved in TensorFlow format with `save_weights`. The model's weights will be saved, but unlike with TensorFlow optimizers in the TensorFlow format the optimizer's state will not be saved.\n",
      "\n",
      "Consider using a TensorFlow optimizer from `tf.train`.\n",
      "1000/1000 [==============================] - 1s 545us/step - loss: 0.0369 - acc: 1.0000 - val_loss: 0.4162 - val_acc: 0.8710\n"
     ]
    },
    {
     "data": {
      "text/plain": [
       "<tensorflow.python.keras.callbacks.History at 0x2e827c4c9e8>"
      ]
     },
     "execution_count": 22,
     "metadata": {},
     "output_type": "execute_result"
    }
   ],
   "source": [
    "checkpoint_path = \"train_1/cp.ckpt\"\n",
    "checkpoint_dir = os.path.dirname(checkpoint_path)\n",
    "# 保存 weight\n",
    "cp_callback = keras.callbacks.ModelCheckpoint(checkpoint_path,save_weights_only=True,verbose=1)\n",
    "\n",
    "model.fit(train_data,train_label,epochs=10,validation_data=(test_data,test_label),callbacks=[cp_callback])"
   ]
  },
  {
   "cell_type": "code",
   "execution_count": 23,
   "metadata": {},
   "outputs": [
    {
     "name": "stdout",
     "output_type": "stream",
     "text": [
      "1000/1000 [==============================] - 0s 211us/step\n",
      "2.302290849685669 0.126\n"
     ]
    }
   ],
   "source": [
    "# 未训练模型的评估结果\n",
    "model = build_model()\n",
    "loss,acc = model.evaluate(test_data,test_label)\n",
    "print(loss,acc)"
   ]
  },
  {
   "cell_type": "code",
   "execution_count": 24,
   "metadata": {},
   "outputs": [
    {
     "name": "stdout",
     "output_type": "stream",
     "text": [
      "1000/1000 [==============================] - 0s 152us/step\n",
      "0.4161755704879761 0.871\n"
     ]
    }
   ],
   "source": [
    "# 经过训练模型的评估结果\n",
    "model = build_model()\n",
    "# 加载训练好的 权重参数\n",
    "model.load_weights(checkpoint_path)\n",
    "loss,acc = model.evaluate(test_data,test_label)\n",
    "print(loss,acc)\n",
    "# 准确率从 12% 提高到 87%"
   ]
  },
  {
   "cell_type": "markdown",
   "metadata": {},
   "source": [
    "### 检查点回调选项 "
   ]
  },
  {
   "cell_type": "code",
   "execution_count": 32,
   "metadata": {},
   "outputs": [
    {
     "name": "stdout",
     "output_type": "stream",
     "text": [
      "Train on 1000 samples, validate on 1000 samples\n",
      "Epoch 1/10\n",
      "1000/1000 [==============================] - 1s 868us/step - loss: 1.2683 - acc: 0.6340 - val_loss: 0.7184 - val_acc: 0.7970\n",
      "Epoch 2/10\n",
      "1000/1000 [==============================] - 0s 338us/step - loss: 0.4257 - acc: 0.8850 - val_loss: 0.5540 - val_acc: 0.8260\n",
      "Epoch 3/10\n",
      "1000/1000 [==============================] - 0s 346us/step - loss: 0.2888 - acc: 0.9230 - val_loss: 0.4901 - val_acc: 0.8430\n",
      "Epoch 4/10\n",
      "1000/1000 [==============================] - 0s 331us/step - loss: 0.2202 - acc: 0.9370 - val_loss: 0.4454 - val_acc: 0.8610\n",
      "Epoch 5/10\n",
      " 992/1000 [============================>.] - ETA: 0s - loss: 0.1621 - acc: 0.9657\n",
      "Epoch 00005: saving model to training_2/cp-0005.ckpt\n",
      "WARNING:tensorflow:This model was compiled with a Keras optimizer (<tensorflow.python.keras.optimizers.Adam object at 0x000002E82A9ED160>) but is being saved in TensorFlow format with `save_weights`. The model's weights will be saved, but unlike with TensorFlow optimizers in the TensorFlow format the optimizer's state will not be saved.\n",
      "\n",
      "Consider using a TensorFlow optimizer from `tf.train`.\n",
      "1000/1000 [==============================] - 1s 603us/step - loss: 0.1615 - acc: 0.9660 - val_loss: 0.4663 - val_acc: 0.8540\n",
      "Epoch 6/10\n",
      "1000/1000 [==============================] - 0s 332us/step - loss: 0.1142 - acc: 0.9820 - val_loss: 0.4407 - val_acc: 0.8630\n",
      "Epoch 7/10\n",
      "1000/1000 [==============================] - 0s 336us/step - loss: 0.0844 - acc: 0.9880 - val_loss: 0.4127 - val_acc: 0.8640\n",
      "Epoch 8/10\n",
      "1000/1000 [==============================] - 0s 345us/step - loss: 0.0678 - acc: 0.9910 - val_loss: 0.4220 - val_acc: 0.8610\n",
      "Epoch 9/10\n",
      "1000/1000 [==============================] - 0s 341us/step - loss: 0.0551 - acc: 0.9930 - val_loss: 0.4462 - val_acc: 0.8660\n",
      "Epoch 10/10\n",
      " 928/1000 [==========================>...] - ETA: 0s - loss: 0.0398 - acc: 0.9989\n",
      "Epoch 00010: saving model to training_2/cp-0010.ckpt\n",
      "WARNING:tensorflow:This model was compiled with a Keras optimizer (<tensorflow.python.keras.optimizers.Adam object at 0x000002E82A9ED160>) but is being saved in TensorFlow format with `save_weights`. The model's weights will be saved, but unlike with TensorFlow optimizers in the TensorFlow format the optimizer's state will not be saved.\n",
      "\n",
      "Consider using a TensorFlow optimizer from `tf.train`.\n",
      "1000/1000 [==============================] - 1s 590us/step - loss: 0.0389 - acc: 0.9990 - val_loss: 0.3962 - val_acc: 0.8750\n"
     ]
    },
    {
     "data": {
      "text/plain": [
       "<tensorflow.python.keras.callbacks.History at 0x2e82a9e8ac8>"
      ]
     },
     "execution_count": 32,
     "metadata": {},
     "output_type": "execute_result"
    }
   ],
   "source": [
    "checkpoint_path = \"training_2/cp-{epoch:04d}.ckpt\"\n",
    "checkpoint_dir = os.path.dirname(checkpoint_path)\n",
    "# 保存 weight;每训练 5 次才保存一次\n",
    "cp_callback = keras.callbacks.ModelCheckpoint(checkpoint_path,save_weights_only=True,verbose=1,period=5)\n",
    "model = build_model()\n",
    "model.fit(train_data,train_label,epochs=10,validation_data=(test_data,test_label),callbacks=[cp_callback])"
   ]
  },
  {
   "cell_type": "markdown",
   "metadata": {},
   "source": [
    "### 手动保存 "
   ]
  },
  {
   "cell_type": "code",
   "execution_count": 39,
   "metadata": {},
   "outputs": [
    {
     "name": "stdout",
     "output_type": "stream",
     "text": [
      "Train on 1000 samples, validate on 1000 samples\n",
      "Epoch 1/10\n",
      " - 1s - loss: 1.1734 - acc: 0.6610 - val_loss: 0.7434 - val_acc: 0.7670\n",
      "Epoch 2/10\n",
      " - 0s - loss: 0.4120 - acc: 0.8860 - val_loss: 0.5465 - val_acc: 0.8360\n",
      "Epoch 3/10\n",
      " - 0s - loss: 0.2869 - acc: 0.9260 - val_loss: 0.5019 - val_acc: 0.8490\n",
      "Epoch 4/10\n",
      " - 0s - loss: 0.2097 - acc: 0.9520 - val_loss: 0.4627 - val_acc: 0.8540\n",
      "Epoch 5/10\n",
      " - 0s - loss: 0.1622 - acc: 0.9630 - val_loss: 0.4356 - val_acc: 0.8660\n",
      "Epoch 6/10\n",
      " - 0s - loss: 0.1169 - acc: 0.9780 - val_loss: 0.4165 - val_acc: 0.8580\n",
      "Epoch 7/10\n",
      " - 0s - loss: 0.0923 - acc: 0.9820 - val_loss: 0.4303 - val_acc: 0.8550\n",
      "Epoch 8/10\n",
      " - 0s - loss: 0.0689 - acc: 0.9960 - val_loss: 0.4190 - val_acc: 0.8670\n",
      "Epoch 9/10\n",
      " - 0s - loss: 0.0514 - acc: 0.9980 - val_loss: 0.4333 - val_acc: 0.8660\n",
      "Epoch 10/10\n",
      " - 0s - loss: 0.0401 - acc: 1.0000 - val_loss: 0.4083 - val_acc: 0.8760\n",
      "WARNING:tensorflow:This model was compiled with a Keras optimizer (<tensorflow.python.keras.optimizers.Adam object at 0x000002E82ACF7630>) but is being saved in TensorFlow format with `save_weights`. The model's weights will be saved, but unlike with TensorFlow optimizers in the TensorFlow format the optimizer's state will not be saved.\n",
      "\n",
      "Consider using a TensorFlow optimizer from `tf.train`.\n",
      "1000/1000 [==============================] - 0s 315us/step\n",
      "0.40828099942207335 0.876\n"
     ]
    }
   ],
   "source": [
    "checkpoint_path = './checkpoints/my_checkpoint'\n",
    "\n",
    "model = build_model()\n",
    "\n",
    "model.fit(train_data,train_label,epochs=10,validation_data=(test_data,test_label),verbose = 2)\n",
    "model.save_weights(checkpoint_path)\n",
    "\n",
    "# 调出模型\n",
    "model = build_model()\n",
    "model.load_weights(checkpoint_path)\n",
    "loss,acc = model.evaluate(test_data,test_label)\n",
    "print(loss,acc)"
   ]
  },
  {
   "cell_type": "markdown",
   "metadata": {},
   "source": [
    "## 保存整个模型"
   ]
  },
  {
   "cell_type": "code",
   "execution_count": 43,
   "metadata": {},
   "outputs": [
    {
     "name": "stdout",
     "output_type": "stream",
     "text": [
      "1000/1000 [==============================] - 1s 662us/step\n",
      "0.40828099942207335 0.876\n"
     ]
    }
   ],
   "source": [
    "# 固定为 h5 文件格式\n",
    "\n",
    "model_path = \"my_mdel.h5\"\n",
    "model_dir = os.path.dirname(model_path)\n",
    "# 保存权值、模型架构、优化\n",
    "# 不会自己创建文件夹\n",
    "model.save(model_path)\n",
    "\n",
    "# 直接载入 model 相当于创建模型对象\n",
    "restore_model = keras.models.load_model(model_path)\n",
    "loss,acc = restore_model.evaluate(test_data,test_label)\n",
    "print(loss,acc)"
   ]
  },
  {
   "cell_type": "code",
   "execution_count": null,
   "metadata": {},
   "outputs": [],
   "source": []
  }
 ],
 "metadata": {
  "kernelspec": {
   "display_name": "Python 3",
   "language": "python",
   "name": "python3"
  },
  "language_info": {
   "codemirror_mode": {
    "name": "ipython",
    "version": 3
   },
   "file_extension": ".py",
   "mimetype": "text/x-python",
   "name": "python",
   "nbconvert_exporter": "python",
   "pygments_lexer": "ipython3",
   "version": "3.6.0"
  }
 },
 "nbformat": 4,
 "nbformat_minor": 2
}
