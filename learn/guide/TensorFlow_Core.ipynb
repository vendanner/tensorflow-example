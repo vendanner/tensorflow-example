{
 "cells": [
  {
   "cell_type": "markdown",
   "metadata": {},
   "source": [
    "## TensorFlow Core "
   ]
  },
  {
   "cell_type": "code",
   "execution_count": 18,
   "metadata": {},
   "outputs": [],
   "source": [
    "import numpy as np\n",
    "import tensorflow as tf\n"
   ]
  },
  {
   "cell_type": "markdown",
   "metadata": {},
   "source": [
    "### tensor"
   ]
  },
  {
   "cell_type": "code",
   "execution_count": 96,
   "metadata": {},
   "outputs": [
    {
     "name": "stdout",
     "output_type": "stream",
     "text": [
      "0\n",
      "1\n",
      "2\n",
      "(3, array([[[1.3162619, 1.0168624],\n",
      "        [1.6151062, 1.8095675],\n",
      "        [1.7547767, 1.8808796]],\n",
      "\n",
      "       [[1.6135429, 1.8138312],\n",
      "        [1.8902813, 1.7622585],\n",
      "        [1.8953396, 1.5058954]]], dtype=float32))\n"
     ]
    }
   ],
   "source": [
    "# tensorflow 就是对 tensor 计算，tensor 可以分为0阶、1阶、2阶、3阶、更高阶\n",
    "# tensor 包含维度 + 数据类型\n",
    "# tf.rank() 获取 tensor 阶数 \n",
    "\n",
    "sess = tf.Session()\n",
    "# 0阶：tensor 里单个值\n",
    "zero_rank = tf.Variable(0,tf.int32)\n",
    "print(sess.run(tf.rank(zero_rank)))\n",
    "\n",
    "# 1 阶：类似一维数组\n",
    "one_rank = tf.Variable([0,1],tf.int32)\n",
    "print(sess.run(tf.rank(one_rank)))\n",
    "\n",
    "# 2 阶：类似二维数组\n",
    "two_rank = tf.Variable([[0,1],[2,3]],tf.int32)\n",
    "print(sess.run(tf.rank(two_rank)))\n",
    "\n",
    "# 3 阶：类似三维数组\n",
    "three_rank = tf.random.uniform(((2,3,2)),1,2)\n",
    "print(sess.run((tf.rank(three_rank),three_rank)) )"
   ]
  },
  {
   "cell_type": "markdown",
   "metadata": {},
   "source": [
    "#### 形状 "
   ]
  },
  {
   "cell_type": "code",
   "execution_count": 44,
   "metadata": {},
   "outputs": [
    {
     "name": "stdout",
     "output_type": "stream",
     "text": [
      "(array([0., 0., 0.], dtype=float32), array([[[1., 1.],\n",
      "        [1., 1.],\n",
      "        [1., 1.]],\n",
      "\n",
      "       [[1., 1.],\n",
      "        [1., 1.],\n",
      "        [1., 1.]]], dtype=float32))\n"
     ]
    }
   ],
   "source": [
    "# 获取 tensor 形状，shape()\n",
    "# three_rank.shape = [2,3,2]\n",
    "zeros = tf.zeros(three_rank.shape[1])\n",
    "ones = tf.ones(three_rank.shape)\n",
    "print(sess.run((zeros,ones)))\n",
    "\n",
    "# 改变形状\n",
    "rank_three_tensor = tf.ones([3, 4, 5])\n",
    "# 在 shape 中，-1 代表自动补全\n",
    "change_rank = tf.reshape(rank_three_tensor,[4,3,-1])\n",
    "# -1 代表补全，但如果不整除则会报错；3*4*5 / 26 = 2..3333\n",
    "error_rank = tf.reshape(rank_three_tensor,[13,2,-1])\n",
    "print(sess.run((change_rank,error_rank)))"
   ]
  },
  {
   "cell_type": "markdown",
   "metadata": {},
   "source": [
    "#### 数据类型 "
   ]
  },
  {
   "cell_type": "code",
   "execution_count": 48,
   "metadata": {},
   "outputs": [
    {
     "name": "stdout",
     "output_type": "stream",
     "text": [
      "<dtype: 'int32'>\n",
      "<dtype: 'float32'>\n"
     ]
    }
   ],
   "source": [
    "# 一个 tensor 只能有一种数据类型\n",
    "\n",
    "int_type = tf.constant([1,2,3],tf.int32)\n",
    "# tf.cast() 转换类型\n",
    "float_type = tf.cast(int_type,dtype=tf.float32)\n",
    "\n",
    "print(int_type.dtype)\n",
    "print(float_type.dtype)"
   ]
  },
  {
   "cell_type": "markdown",
   "metadata": {},
   "source": [
    "#### 评估张量 "
   ]
  },
  {
   "cell_type": "code",
   "execution_count": 73,
   "metadata": {},
   "outputs": [
    {
     "name": "stdout",
     "output_type": "stream",
     "text": [
      "<dtype: 'int32'>\n"
     ]
    }
   ],
   "source": [
    "# 临时输出值 eval()\n",
    "\n",
    "constant = tf.constant([1,2,3])\n",
    "sum_val = constant + constant\n",
    "# 不需要 run 可临时评估；但有占位符的情况下，需要提供值才能计算临时值\n",
    "sum_val.eval(session=sess)"
   ]
  },
  {
   "cell_type": "markdown",
   "metadata": {},
   "source": [
    "#### 输出张量"
   ]
  },
  {
   "cell_type": "code",
   "execution_count": 97,
   "metadata": {},
   "outputs": [
    {
     "data": {
      "text/plain": [
       "array([2, 4, 6])"
      ]
     },
     "execution_count": 97,
     "metadata": {},
     "output_type": "execute_result"
    }
   ],
   "source": [
    "# 打印张量 调试使用\n",
    "t = tf.constant(1)\n",
    "t = tf.Print(sum_val,[sum_val],\"s\")\n",
    "sess.run(t)"
   ]
  },
  {
   "cell_type": "markdown",
   "metadata": {},
   "source": [
    "## Graph"
   ]
  },
  {
   "cell_type": "code",
   "execution_count": 56,
   "metadata": {},
   "outputs": [
    {
     "name": "stdout",
     "output_type": "stream",
     "text": [
      "Tensor(\"Const_10:0\", shape=(), dtype=float32)\n",
      "Tensor(\"Const_11:0\", shape=(), dtype=float32)\n",
      "Tensor(\"add_11:0\", shape=(), dtype=float32)\n"
     ]
    }
   ],
   "source": [
    "a = tf.constant(4.0,tf.float32)\n",
    "b = tf.constant(8.0,tf.float32)\n",
    "c = a + b\n",
    "# 此时不是输出值，而是 tensor 状态\n",
    "print(a)\n",
    "print(b)\n",
    "print(c)"
   ]
  },
  {
   "cell_type": "markdown",
   "metadata": {},
   "source": [
    "### 命名 "
   ]
  },
  {
   "cell_type": "code",
   "execution_count": 95,
   "metadata": {},
   "outputs": [
    {
     "name": "stdout",
     "output_type": "stream",
     "text": [
      "ops:0\n"
     ]
    }
   ],
   "source": [
    "# 以下关于命名不涉及变量的命名规则\n",
    "\n",
    "# 当命名被占用，会在命名后加 \"_index\"\n",
    "c_0 = tf.constant(0, name=\"c\")  # => operation named \"c\"\n",
    "\n",
    "# Already-used names will be \"uniquified\".\n",
    "c_1 = tf.constant(2, name=\"c\")  # => operation named \"c_1\"\n",
    "\n",
    "# Name scopes add a prefix to all operations created in the same context.\n",
    "with tf.name_scope(\"outer\"):\n",
    "    c_2 = tf.constant(2, name=\"c\")  # => operation named \"outer/c\"\n",
    "\n",
    "  # Name scopes nest like paths in a hierarchical file system.\n",
    "with tf.name_scope(\"inner\"):\n",
    "    c_3 = tf.constant(3, name=\"c\")  # => operation named \"outer/inner/c\"\n",
    "\n",
    "  # Exiting a name scope context will return to the previous prefix.\n",
    "    c_4 = tf.constant(4, name=\"c\")  # => operation named \"outer/c_1\"\n",
    "\n",
    "  # Already-used name scopes will be \"uniquified\".\n",
    "    with tf.name_scope(\"inner\"):\n",
    "        c_5 = tf.constant(5, name=\"c\")  # => operation named \"outer/inner_1/c\"\n",
    "# \n",
    "x = tf.Variable([1,2],dtype=tf.float16)\n",
    "x_ops = x.assign_add([10,2],name = \"ops\")\n",
    "# ops:0 => 操作的名称:该张量的索引\n",
    "print(x_ops.name)"
   ]
  },
  {
   "cell_type": "markdown",
   "metadata": {},
   "source": [
    "### 不同设备 "
   ]
  },
  {
   "cell_type": "code",
   "execution_count": null,
   "metadata": {},
   "outputs": [],
   "source": [
    "# 多设备 tensorflow 稍后看"
   ]
  },
  {
   "cell_type": "markdown",
   "metadata": {},
   "source": [
    "### 类似于张量的对象 "
   ]
  },
  {
   "cell_type": "code",
   "execution_count": null,
   "metadata": {},
   "outputs": [],
   "source": []
  },
  {
   "cell_type": "markdown",
   "metadata": {},
   "source": [
    "### tensorBoard"
   ]
  },
  {
   "cell_type": "code",
   "execution_count": 3,
   "metadata": {},
   "outputs": [],
   "source": [
    "# 保存 graph ，用 tensorboard 打开\n",
    "\n",
    "tf_write = tf.summary.FileWriter('.')\n",
    "tf_write.add_graph(tf.get_default_graph())\n",
    "# 在当前文件下生成 “events.out.tfevents.{timestamp}.{hostname}” 文件\n",
    "# 一：tensorboard --logdir dirpath 加载保存的 graph 文件\n",
    "# 二：localhost:6066 在浏览器展示 tensorboard"
   ]
  },
  {
   "cell_type": "markdown",
   "metadata": {},
   "source": [
    "### Session "
   ]
  },
  {
   "cell_type": "code",
   "execution_count": null,
   "metadata": {},
   "outputs": [],
   "source": [
    "graph：存储要运算的 tensor 流程\n",
    "Session：计算 graph"
   ]
  },
  {
   "cell_type": "code",
   "execution_count": 4,
   "metadata": {},
   "outputs": [
    {
     "name": "stdout",
     "output_type": "stream",
     "text": [
      "12.0\n"
     ]
    }
   ],
   "source": [
    "sess = tf.Session()\n",
    "# 此时才是输出 c 值 12.0；\n",
    "print(sess.run(c))"
   ]
  },
  {
   "cell_type": "code",
   "execution_count": 5,
   "metadata": {},
   "outputs": [
    {
     "name": "stdout",
     "output_type": "stream",
     "text": [
      "{'ab': (4.0, 8.0), 'c': 12.0}\n"
     ]
    }
   ],
   "source": [
    "# 同理计算\n",
    "print(sess.run({'ab':(a,b),'c':c}))"
   ]
  },
  {
   "cell_type": "code",
   "execution_count": 8,
   "metadata": {},
   "outputs": [
    {
     "name": "stdout",
     "output_type": "stream",
     "text": [
      "[1.7616307 1.9310986 1.3928301]\n",
      "[2.4288657 2.9211712 2.2150261]\n",
      "(array([1.3132862, 1.3063877, 1.5273491], dtype=float32), array([2.3132863, 2.3063877, 2.527349 ], dtype=float32))\n"
     ]
    }
   ],
   "source": [
    "vec = tf.random.uniform(shape=(3,))\n",
    "out1 = vec + 1\n",
    "out2 = vec + 2\n",
    "# 每次 run 都会重新计算 tensor 的值，所有第一次和第二次输出的值不是相差1\n",
    "# 但同个 run 下，tensor 值共用，故第三次输出 out1 和 out2 相差1\n",
    "print(sess.run(out1))\n",
    "print(sess.run(out2))\n",
    "print(sess.run((out1,out2)))"
   ]
  },
  {
   "cell_type": "markdown",
   "metadata": {},
   "source": [
    "### 占位符"
   ]
  },
  {
   "cell_type": "code",
   "execution_count": 12,
   "metadata": {},
   "outputs": [
    {
     "name": "stdout",
     "output_type": "stream",
     "text": [
      "8\n",
      "[ 6 12]\n"
     ]
    }
   ],
   "source": [
    "# 占位符类似函数参数，只提供参数类型，到真正执行的时候才提供真实值\n",
    "\n",
    "x = tf.placeholder(tf.int32)\n",
    "y = tf.placeholder(tf.int32)\n",
    "z = x + y\n",
    "\n",
    "# 占位符在 run 时必须用 feed_dict 提供真实值，否则会报错\n",
    "print(sess.run(z,feed_dict={x:3,y:5}))\n",
    "print(sess.run(z,feed_dict={x:[1,3],y:[5,9]}))"
   ]
  },
  {
   "cell_type": "markdown",
   "metadata": {},
   "source": [
    "### 数据集"
   ]
  },
  {
   "cell_type": "code",
   "execution_count": 16,
   "metadata": {},
   "outputs": [
    {
     "name": "stdout",
     "output_type": "stream",
     "text": [
      "[0 1]\n",
      "[2 3]\n",
      "[4 5]\n",
      "[6 7]\n"
     ]
    }
   ],
   "source": [
    "# 将数据集转化为 tf.data.Iterator，然后用 get_next 逐个取出\n",
    "my_data = [\n",
    "    [0, 1,],\n",
    "    [2, 3,],\n",
    "    [4, 5,],\n",
    "    [6, 7,],\n",
    "]\n",
    "\n",
    "# my_data 数据集先转化为 iterator\n",
    "slices = tf.data.Dataset.from_tensor_slices(my_data)\n",
    "next_item = slices.make_one_shot_iterator().get_next()\n",
    "\n",
    "# get_next() 超出范围后，爆 OutOfRangeError异常\n",
    "while(True):\n",
    "    try:\n",
    "        print(sess.run(next_item))\n",
    "    except tf.errors.OutOfRangeError:\n",
    "        break\n"
   ]
  },
  {
   "cell_type": "markdown",
   "metadata": {},
   "source": [
    "### 层 "
   ]
  },
  {
   "cell_type": "code",
   "execution_count": 12,
   "metadata": {},
   "outputs": [
    {
     "name": "stdout",
     "output_type": "stream",
     "text": [
      "[[4.1774855]\n",
      " [6.1031528]]\n"
     ]
    }
   ],
   "source": [
    "import tensorflow as tf\n",
    "\n",
    "x = tf.placeholder(tf.float32,shape=[None,3])\n",
    "# 创建 Dense 层;units 输出是几个值\n",
    "linear_mode = tf.layers.Dense(units=1)\n",
    "y = linear_mode(x)\n",
    "\n",
    "init = tf.global_variables_initializer()\n",
    "with tf.Session() as sess:\n",
    "    sess.run(init)\n",
    "    print(sess.run(y,feed_dict={x:[[1,2,3],[2,3,4]]}))"
   ]
  },
  {
   "cell_type": "markdown",
   "metadata": {},
   "source": [
    "### 特征列 "
   ]
  },
  {
   "cell_type": "code",
   "execution_count": 22,
   "metadata": {},
   "outputs": [
    {
     "name": "stdout",
     "output_type": "stream",
     "text": [
      "[[ 1.  0.  5.]\n",
      " [ 1.  0. 10.]\n",
      " [ 0.  1.  8.]\n",
      " [ 0.  1.  9.]]\n"
     ]
    }
   ],
   "source": [
    "# 特征数据\n",
    "features = {\n",
    "    'sales' : [[5], [10], [8], [9]],\n",
    "    'department': ['sports', 'sports', 'gardening', 'gardening']}\n",
    "\n",
    "# 标签特征值需要 indicator_column 转化\n",
    "department_column = tf.feature_column.categorical_column_with_vocabulary_list(\n",
    "        'department', ['sports', 'gardening'])\n",
    "\n",
    "department_column = tf.feature_column.indicator_column(department_column)\n",
    "\n",
    "# 组合特征的列\n",
    "columns = [\n",
    "    tf.feature_column.numeric_column('sales'),\n",
    "    department_column\n",
    "]\n",
    "\n",
    "# 转化特征\n",
    "inputs = tf.feature_column.input_layer(features, columns)\n",
    "\n",
    "with tf.Session() as sess:\n",
    "    sess.run(init)\n",
    "    # 特征列内部有对照表 也需要初始化\n",
    "    sess.run(tf.tables_initializer())\n",
    "    # 第一、二列是 one hot 值，第三列是 sales\n",
    "    print(sess.run(inputs))"
   ]
  },
  {
   "cell_type": "markdown",
   "metadata": {},
   "source": [
    "### 训练 "
   ]
  },
  {
   "cell_type": "code",
   "execution_count": 35,
   "metadata": {},
   "outputs": [
    {
     "name": "stdout",
     "output_type": "stream",
     "text": [
      "16.270452\n",
      "15.0604315\n",
      "14.220334\n",
      "13.636921\n",
      "13.23162\n",
      "12.949907\n",
      "12.753956\n",
      "12.617515\n",
      "12.522367\n",
      "12.455876\n",
      "12.409275\n",
      "12.376472\n",
      "12.353249\n",
      "12.3366785\n",
      "12.324723\n",
      "12.315975\n",
      "12.309455\n",
      "12.304483\n",
      "12.300587\n",
      "12.297442\n",
      "12.294819\n",
      "12.2925625\n",
      "12.290563\n",
      "12.288742\n",
      "12.28705\n",
      "12.285448\n",
      "12.283911\n",
      "12.282425\n",
      "12.280973\n",
      "12.279552\n",
      "12.27815\n",
      "12.276765\n",
      "12.275394\n",
      "12.274039\n",
      "12.272691\n",
      "12.271356\n",
      "12.270029\n",
      "12.268711\n",
      "12.267401\n",
      "12.266101\n",
      "12.26481\n",
      "12.263522\n",
      "12.262245\n",
      "12.260977\n",
      "12.259716\n",
      "12.258461\n",
      "12.2572155\n",
      "12.255975\n",
      "12.254744\n",
      "12.253519\n",
      "12.252303\n",
      "12.251095\n",
      "12.249891\n",
      "12.248695\n",
      "12.247507\n",
      "12.246326\n",
      "12.245152\n",
      "12.243986\n",
      "12.242827\n",
      "12.241674\n",
      "12.240528\n",
      "12.23939\n",
      "12.238256\n",
      "12.23713\n",
      "12.236012\n",
      "12.2348995\n",
      "12.233794\n",
      "12.232695\n",
      "12.231604\n",
      "12.230518\n",
      "12.229439\n",
      "12.228365\n",
      "12.227298\n",
      "12.226238\n",
      "12.225186\n",
      "12.224137\n",
      "12.223098\n",
      "12.222062\n",
      "12.221034\n",
      "12.220009\n",
      "12.218995\n",
      "12.217985\n",
      "12.216979\n",
      "12.215981\n",
      "12.21499\n",
      "12.214003\n",
      "12.213021\n",
      "12.212047\n",
      "12.211079\n",
      "12.210115\n",
      "12.209158\n",
      "12.208207\n",
      "12.20726\n",
      "12.20632\n",
      "12.205385\n",
      "12.204456\n",
      "12.203532\n",
      "12.202613\n",
      "12.201702\n",
      "12.200794\n",
      "[[1.4748542]\n",
      " [2.3970742]\n",
      " [3.319294 ]\n",
      " [4.2415137]]\n"
     ]
    }
   ],
   "source": [
    "# 数据准备\n",
    "x = tf.constant([[1],[2],[3],[4]],dtype=tf.float32)\n",
    "y_true = tf.constant([[2],[5],[7],[1]],dtype=tf.float32)\n",
    "\n",
    "# 选择模型\n",
    "linear_mode = tf.layers.Dense(units=1)\n",
    "\n",
    "# 预测\n",
    "y_pred = linear_mode(x)\n",
    "\n",
    "# 定义损失函数\n",
    "loss = tf.losses.mean_squared_error(labels=y_true,predictions=y_pred)\n",
    "\n",
    "# 训练 - 寻找最小损失值 - 梯度下降\n",
    "optimizer = tf.train.GradientDescentOptimizer(0.01)\n",
    "train = optimizer.minimize(loss)\n",
    "\n",
    "# tensorflow 相关操作\n",
    "init = tf.global_variables_initializer()\n",
    "\n",
    "with tf.Session() as sess:\n",
    "    sess.run(init)\n",
    "    for i in range(100):\n",
    "        _,loss_val = sess.run((train,loss))\n",
    "        print(loss_val)\n",
    "    print(sess.run(y_pred))"
   ]
  },
  {
   "cell_type": "markdown",
   "metadata": {},
   "source": [
    "## 变量 "
   ]
  },
  {
   "cell_type": "code",
   "execution_count": 46,
   "metadata": {},
   "outputs": [
    {
     "name": "stdout",
     "output_type": "stream",
     "text": [
      "[32 42]\n"
     ]
    }
   ],
   "source": [
    "# 指定名称 my_var, 值 tf.constant([32,42])，类型根据值 自动化\n",
    "my_var = tf.get_variable(\"my_var\",initializer=tf.constant([32,42]))\n",
    "with tf.Session() as sess:\n",
    "    sess.run(tf.global_variables_initializer())\n",
    "    print(sess.run(my_var))"
   ]
  },
  {
   "cell_type": "markdown",
   "metadata": {},
   "source": [
    "### 变量集合 "
   ]
  },
  {
   "cell_type": "code",
   "execution_count": 52,
   "metadata": {},
   "outputs": [
    {
     "data": {
      "text/plain": [
       "[<tf.Variable 'my_var1:0' shape=(2,) dtype=int32_ref>,\n",
       " <tf.Variable 'my_var2:0' shape=(2,) dtype=int32_ref>]"
      ]
     },
     "execution_count": 52,
     "metadata": {},
     "output_type": "execute_result"
    }
   ],
   "source": [
    "# 变量默认是在 tf.GraphKeys.GLOBAL_VARIABLES 集合，但可以手动修改\n",
    "# my_var 存放在本地 \n",
    "my_var1 = tf.get_variable(\"my_var2\",initializer=tf.constant([10,42]),collections=[tf.GraphKeys.LOCAL_VARIABLES])\n",
    "\n",
    "# 放置到自己的集合 \"my_collection\"；自定义变量集合无需显式创建，添加后会自动创建\n",
    "tf.add_to_collection(\"my_collection\",my_var1)\n",
    "\n",
    "# 变量集合包含那些变量\n",
    "tf.get_collection(\"my_collection\")"
   ]
  },
  {
   "cell_type": "markdown",
   "metadata": {},
   "source": [
    "### 初始化变量 "
   ]
  },
  {
   "cell_type": "code",
   "execution_count": 61,
   "metadata": {},
   "outputs": [
    {
     "name": "stdout",
     "output_type": "stream",
     "text": [
      "[33 43]\n",
      "[11 43]\n",
      "[b'my_var1']\n"
     ]
    }
   ],
   "source": [
    "# global_variables_initializer 只初始化 在tf.GraphKeys.GLOBAL_VARIABLES 中的变量\n",
    "sess = tf.Session()\n",
    "sess.run(tf.global_variables_initializer())\n",
    "\n",
    "y = 1+my_var\n",
    "x = 1+my_var1\n",
    "print(sess.run(y))\n",
    "# 显然这个会报错，因为 my_var1 在 \"my_collection\" 变量集合，没有被初始化\n",
    "# print(sess.run(x))\n",
    "\n",
    "# 手动初始化单个变量\n",
    "sess.run(my_var1.initializer)\n",
    "# 这里才不会报错\n",
    "print(sess.run(x))\n",
    "\n",
    "# 查询那些变了没初始化\n",
    "print(sess.run(tf.report_uninitialized_variables()))\n",
    "\n",
    "# global_variables_initializer 初始化变量时，没有固定的顺序\n",
    "# 如果变量的初始化需要其他变量时，应使用 variable.initialized_value() ，防止其他变量没初始化\n",
    "v = tf.get_variable(\"v\", shape=(), initializer=tf.zeros_initializer())\n",
    "f = tf.get_variable(\"f\",shape=(),initializer=v.initialized_value() + 1)"
   ]
  },
  {
   "cell_type": "markdown",
   "metadata": {},
   "source": [
    "### 使用变量 "
   ]
  },
  {
   "cell_type": "code",
   "execution_count": 73,
   "metadata": {},
   "outputs": [
    {
     "name": "stdout",
     "output_type": "stream",
     "text": [
      "13.0\n"
     ]
    }
   ],
   "source": [
    "# assign 操作符,将 assign 中计算的值赋予变量\n",
    "\n",
    "v = tf.get_variable(\"v4\",shape=(),initializer=tf.zeros_initializer())\n",
    "# v_ops 是操作 不是变量\n",
    "v_ops = v.assign(v + 1)\n",
    "\n",
    "v_add = v.assign_add(10)\n",
    "\n",
    "with tf.Session() as sess:\n",
    "    sess.run(tf.global_variables_initializer())\n",
    "    sess.run(v_ops)\n",
    "    sess.run(v_ops)\n",
    "    sess.run(v_ops)\n",
    "    sess.run(v_add)\n",
    "    # 读取值\n",
    "    print(v.eval())"
   ]
  },
  {
   "cell_type": "markdown",
   "metadata": {},
   "source": [
    "### 共享变量 "
   ]
  },
  {
   "cell_type": "code",
   "execution_count": 80,
   "metadata": {},
   "outputs": [],
   "source": [
    "# 显式传递 tf.Variable 对象\n",
    "# 将 tf.Variable 对象隐式封装在 tf.variable_scope 对象内。\n",
    "\n",
    "def cov_relu(inputs,weight_shape,bias_shape):\n",
    "    weights = tf.get_variable(\"weights2\",shape=weight_shape,initializer=tf.random_uniform_initializer())\n",
    "    bases = tf.get_variable(\"base2\",shape=bias_shape,initializer=tf.constant_initializer(0.0))\n",
    "    # 4维 卷积计算成2维\n",
    "    cov = tf.nn.conv2d(inputs,weights,strides=[1, 1, 1, 1],padding='SAME')\n",
    "    return tf.nn.relu(cov + bases)\n",
    "\n",
    "input1 = tf.random_normal([1,10,10,32])\n",
    "input2 = tf.random_normal([1,20,20,32])\n",
    "x = cov_relu(input1, weight_shape=[5, 5, 32, 32], bias_shape=[32])\n",
    "# 以下代码会出错，在cov_relu 函数中，\"weights1\" 使用get_variable 获取，\n",
    "# 占用了此变量名，下次无法使用，有2种方法来解决：增加变量命名空间；在相同变量命名空间下重复使用\n",
    "# x = cov_relu(x, weight_shape=[5, 5, 32, 32], bias_shape = [32]) "
   ]
  },
  {
   "cell_type": "markdown",
   "metadata": {},
   "source": [
    "#### 变量作用域 "
   ]
  },
  {
   "cell_type": "code",
   "execution_count": 81,
   "metadata": {},
   "outputs": [],
   "source": [
    "# variable_scope 增加变量域\n",
    "with tf.variable_scope(\"cov1\"):\n",
    "    x = cov_relu(input1, weight_shape=[5, 5, 32, 32], bias_shape=[32])\n",
    "with tf.variable_scope(\"cov2\"):\n",
    "    x = cov_relu(input1, weight_shape=[5, 5, 32, 32], bias_shape=[32])"
   ]
  },
  {
   "cell_type": "code",
   "execution_count": 87,
   "metadata": {},
   "outputs": [],
   "source": [
    "# 在同变量域下重新使用相同变量名，reuse=True\n",
    "with tf.variable_scope(\"model10\"):\n",
    "    x = cov_relu(input1, weight_shape=[5, 5, 32, 32], bias_shape=[32])\n",
    "with tf.variable_scope(\"model10\",reuse=True):\n",
    "    x = cov_relu(input1, weight_shape=[5, 5, 32, 32], bias_shape=[32])\n",
    "\n",
    "# 更简单的方法，不传作用域名称，传作用域\n",
    "with tf.variable_scope(\"model_scope\") as model_scope:\n",
    "    x = cov_relu(input1, weight_shape=[5, 5, 32, 32], bias_shape=[32])\n",
    "with tf.variable_scope(model_scope,reuse=True):\n",
    "    x = cov_relu(input1, weight_shape=[5, 5, 32, 32], bias_shape=[32])"
   ]
  },
  {
   "cell_type": "code",
   "execution_count": 86,
   "metadata": {},
   "outputs": [],
   "source": [
    "# 重用变量名的另一种方法 reuse_variables: 重用该域下所有变量\n",
    "with tf.variable_scope(\"model2\") as scope:\n",
    "    x = cov_relu(input1, weight_shape=[5, 5, 32, 32], bias_shape=[32])\n",
    "    scope.reuse_variables()\n",
    "    x = cov_relu(input1, weight_shape=[5, 5, 32, 32], bias_shape=[32])"
   ]
  },
  {
   "cell_type": "code",
   "execution_count": null,
   "metadata": {},
   "outputs": [],
   "source": []
  }
 ],
 "metadata": {
  "kernelspec": {
   "display_name": "Python 3",
   "language": "python",
   "name": "python3"
  },
  "language_info": {
   "codemirror_mode": {
    "name": "ipython",
    "version": 3
   },
   "file_extension": ".py",
   "mimetype": "text/x-python",
   "name": "python",
   "nbconvert_exporter": "python",
   "pygments_lexer": "ipython3",
   "version": "3.6.0"
  }
 },
 "nbformat": 4,
 "nbformat_minor": 2
}
