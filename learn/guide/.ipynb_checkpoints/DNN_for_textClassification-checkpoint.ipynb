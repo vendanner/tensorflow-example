{
 "cells": [
  {
   "cell_type": "markdown",
   "metadata": {},
   "source": [
    "## DNN_for_textClassification "
   ]
  },
  {
   "cell_type": "code",
   "execution_count": 9,
   "metadata": {},
   "outputs": [
    {
     "name": "stdout",
     "output_type": "stream",
     "text": [
      "1.12.0\n",
      "2.1.6-tf\n"
     ]
    }
   ],
   "source": [
    "# 根据影评判别电影当前用户对该电影的喜好\n",
    "\n",
    "import tensorflow as tf\n",
    "from tensorflow import keras\n",
    "import numpy as np\n",
    "import matplotlib.pyplot as plt\n",
    "\n",
    "print(tf.__version__)"
   ]
  },
  {
   "cell_type": "code",
   "execution_count": 2,
   "metadata": {},
   "outputs": [],
   "source": [
    "imdb = keras.datasets.imdb\n",
    "(train_data,train_label),(test_data,test_label) = imdb.load_data(num_words=10000)"
   ]
  },
  {
   "cell_type": "code",
   "execution_count": 3,
   "metadata": {},
   "outputs": [],
   "source": [
    "# train_data[0] 数字，现将数字先转回评论文字\n",
    "word_index = imdb.get_word_index()\n",
    "\n",
    "word_index = { k:v+3 for k,v  in word_index.items()}\n",
    "word_index[\"<PAD>\"] = 0\n",
    "word_index[\"<START>\"] = 1\n",
    "word_index[\"<UNK>\"] = 2  # unknown\n",
    "word_index[\"<UNUSED>\"] = 3\n",
    "\n",
    "reverse_word_index = dict([(v,k) for (k,v) in word_index.items()])\n",
    "\n",
    "\n",
    "def decode_text(text):\n",
    "    return ' '.join([reverse_word_index.get(i,'?') for i in text])"
   ]
  },
  {
   "cell_type": "markdown",
   "metadata": {},
   "source": [
    "### 准备数据 "
   ]
  },
  {
   "cell_type": "code",
   "execution_count": 4,
   "metadata": {},
   "outputs": [],
   "source": [
    "# 将每条影评的词长度都扩充为256\n",
    "\n",
    "train_data = keras.preprocessing.sequence.pad_sequences(train_data,value=word_index[\"<PAD>\"],padding='post',maxlen=256)\n",
    "test_data = keras.preprocessing.sequence.pad_sequences(test_data,value=word_index[\"<PAD>\"],padding='post',maxlen=256)\n"
   ]
  },
  {
   "cell_type": "markdown",
   "metadata": {},
   "source": [
    "### 构建模型 "
   ]
  },
  {
   "cell_type": "code",
   "execution_count": 10,
   "metadata": {},
   "outputs": [
    {
     "name": "stdout",
     "output_type": "stream",
     "text": [
      "_________________________________________________________________\n",
      "Layer (type)                 Output Shape              Param #   \n",
      "=================================================================\n",
      "embedding_1 (Embedding)      (None, None, 16)          160000    \n",
      "_________________________________________________________________\n",
      "global_average_pooling1d_1 ( (None, 16)                0         \n",
      "_________________________________________________________________\n",
      "dense_2 (Dense)              (None, 16)                272       \n",
      "_________________________________________________________________\n",
      "dense_3 (Dense)              (None, 1)                 17        \n",
      "=================================================================\n",
      "Total params: 160,289\n",
      "Trainable params: 160,289\n",
      "Non-trainable params: 0\n",
      "_________________________________________________________________\n"
     ]
    }
   ],
   "source": [
    "vocab_size = 10000\n",
    "\n",
    "model = keras.Sequential()\n",
    "model.add(keras.layers.Embedding(vocab_size, 16))\n",
    "model.add(keras.layers.GlobalAveragePooling1D())\n",
    "model.add(keras.layers.Dense(16, activation=tf.nn.relu))\n",
    "model.add(keras.layers.Dense(1, activation=tf.nn.sigmoid))\n",
    "\n",
    "model.summary()"
   ]
  },
  {
   "cell_type": "code",
   "execution_count": 11,
   "metadata": {},
   "outputs": [],
   "source": [
    "# 训练目标\n",
    "model.compile(optimizer=tf.train.AdamOptimizer(),\n",
    "             loss = \"binary_crossentropy\",\n",
    "             metrics=[\"accuracy\"])"
   ]
  },
  {
   "cell_type": "markdown",
   "metadata": {},
   "source": [
    "### 创建验证机 "
   ]
  },
  {
   "cell_type": "code",
   "execution_count": 14,
   "metadata": {},
   "outputs": [],
   "source": [
    "# 测试集在模型训练和验证过程，最好只使用一次\n",
    "\n",
    "x_val = train_data[:10000]\n",
    "par_val = train_data[10000:]\n",
    "x_label = train_label[:10000]\n",
    "par_label = train_label[10000:]"
   ]
  },
  {
   "cell_type": "markdown",
   "metadata": {},
   "source": [
    "### 训练模型 "
   ]
  },
  {
   "cell_type": "code",
   "execution_count": 15,
   "metadata": {},
   "outputs": [
    {
     "name": "stdout",
     "output_type": "stream",
     "text": [
      "(10000, 256)\n",
      "Train on 15000 samples, validate on 10000 samples\n",
      "Epoch 1/40\n",
      "15000/15000 [==============================] - 2s 158us/step - loss: 0.6913 - acc: 0.5801 - val_loss: 0.6881 - val_acc: 0.6695\n",
      "Epoch 2/40\n",
      "15000/15000 [==============================] - 1s 80us/step - loss: 0.6827 - acc: 0.7240 - val_loss: 0.6769 - val_acc: 0.7286\n",
      "Epoch 3/40\n",
      "15000/15000 [==============================] - 1s 81us/step - loss: 0.6666 - acc: 0.7611 - val_loss: 0.6577 - val_acc: 0.7552\n",
      "Epoch 4/40\n",
      "15000/15000 [==============================] - 1s 83us/step - loss: 0.6403 - acc: 0.7695 - val_loss: 0.6294 - val_acc: 0.7739\n",
      "Epoch 5/40\n",
      "15000/15000 [==============================] - 1s 84us/step - loss: 0.6037 - acc: 0.8005 - val_loss: 0.5912 - val_acc: 0.7929\n",
      "Epoch 6/40\n",
      "15000/15000 [==============================] - 1s 83us/step - loss: 0.5594 - acc: 0.8183 - val_loss: 0.5491 - val_acc: 0.8066\n",
      "Epoch 7/40\n",
      "15000/15000 [==============================] - 1s 83us/step - loss: 0.5114 - acc: 0.8365 - val_loss: 0.5058 - val_acc: 0.8238\n",
      "Epoch 8/40\n",
      "15000/15000 [==============================] - 1s 82us/step - loss: 0.4643 - acc: 0.8529 - val_loss: 0.4646 - val_acc: 0.8376\n",
      "Epoch 9/40\n",
      "15000/15000 [==============================] - 1s 82us/step - loss: 0.4207 - acc: 0.8653 - val_loss: 0.4284 - val_acc: 0.8473\n",
      "Epoch 10/40\n",
      "15000/15000 [==============================] - 1s 81us/step - loss: 0.3824 - acc: 0.8785 - val_loss: 0.3988 - val_acc: 0.8550\n",
      "Epoch 11/40\n",
      "15000/15000 [==============================] - 1s 81us/step - loss: 0.3508 - acc: 0.8852 - val_loss: 0.3773 - val_acc: 0.8595\n",
      "Epoch 12/40\n",
      "15000/15000 [==============================] - 1s 81us/step - loss: 0.3250 - acc: 0.8919 - val_loss: 0.3563 - val_acc: 0.8668\n",
      "Epoch 13/40\n",
      "15000/15000 [==============================] - 1s 81us/step - loss: 0.3016 - acc: 0.8990 - val_loss: 0.3420 - val_acc: 0.8701\n",
      "Epoch 14/40\n",
      "15000/15000 [==============================] - 1s 81us/step - loss: 0.2823 - acc: 0.9045 - val_loss: 0.3294 - val_acc: 0.8735\n",
      "Epoch 15/40\n",
      "15000/15000 [==============================] - 1s 81us/step - loss: 0.2656 - acc: 0.9090 - val_loss: 0.3197 - val_acc: 0.8760\n",
      "Epoch 16/40\n",
      "15000/15000 [==============================] - 1s 81us/step - loss: 0.2514 - acc: 0.9125 - val_loss: 0.3118 - val_acc: 0.8787\n",
      "Epoch 17/40\n",
      "15000/15000 [==============================] - 1s 82us/step - loss: 0.2375 - acc: 0.9193 - val_loss: 0.3053 - val_acc: 0.8794\n",
      "Epoch 18/40\n",
      "15000/15000 [==============================] - 1s 81us/step - loss: 0.2255 - acc: 0.9229 - val_loss: 0.3000 - val_acc: 0.8824\n",
      "Epoch 19/40\n",
      "15000/15000 [==============================] - 1s 81us/step - loss: 0.2142 - acc: 0.9264 - val_loss: 0.2959 - val_acc: 0.8827\n",
      "Epoch 20/40\n",
      "15000/15000 [==============================] - 1s 81us/step - loss: 0.2043 - acc: 0.9305 - val_loss: 0.2924 - val_acc: 0.8832\n",
      "Epoch 21/40\n",
      "15000/15000 [==============================] - 1s 82us/step - loss: 0.1947 - acc: 0.9337 - val_loss: 0.2896 - val_acc: 0.8838\n",
      "Epoch 22/40\n",
      "15000/15000 [==============================] - 1s 80us/step - loss: 0.1859 - acc: 0.9383 - val_loss: 0.2879 - val_acc: 0.8846\n",
      "Epoch 23/40\n",
      "15000/15000 [==============================] - 1s 85us/step - loss: 0.1778 - acc: 0.9417 - val_loss: 0.2869 - val_acc: 0.8842\n",
      "Epoch 24/40\n",
      "15000/15000 [==============================] - 1s 84us/step - loss: 0.1698 - acc: 0.9465 - val_loss: 0.2853 - val_acc: 0.8848\n",
      "Epoch 25/40\n",
      "15000/15000 [==============================] - 1s 86us/step - loss: 0.1627 - acc: 0.9493 - val_loss: 0.2848 - val_acc: 0.8851\n",
      "Epoch 26/40\n",
      "15000/15000 [==============================] - 1s 82us/step - loss: 0.1556 - acc: 0.9511 - val_loss: 0.2850 - val_acc: 0.8860\n",
      "Epoch 27/40\n",
      "15000/15000 [==============================] - 1s 85us/step - loss: 0.1497 - acc: 0.9539 - val_loss: 0.2858 - val_acc: 0.8842\n",
      "Epoch 28/40\n",
      "15000/15000 [==============================] - 1s 83us/step - loss: 0.1435 - acc: 0.9569 - val_loss: 0.2856 - val_acc: 0.8865\n",
      "Epoch 29/40\n",
      "15000/15000 [==============================] - 1s 83us/step - loss: 0.1377 - acc: 0.9577 - val_loss: 0.2864 - val_acc: 0.8866\n",
      "Epoch 30/40\n",
      "15000/15000 [==============================] - 1s 83us/step - loss: 0.1328 - acc: 0.9605 - val_loss: 0.2878 - val_acc: 0.8863\n",
      "Epoch 31/40\n",
      "15000/15000 [==============================] - 1s 83us/step - loss: 0.1268 - acc: 0.9628 - val_loss: 0.2895 - val_acc: 0.8866\n",
      "Epoch 32/40\n",
      "15000/15000 [==============================] - 1s 82us/step - loss: 0.1221 - acc: 0.9646 - val_loss: 0.2915 - val_acc: 0.8857\n",
      "Epoch 33/40\n",
      "15000/15000 [==============================] - 1s 82us/step - loss: 0.1168 - acc: 0.9675 - val_loss: 0.2935 - val_acc: 0.8854\n",
      "Epoch 34/40\n",
      "15000/15000 [==============================] - 1s 90us/step - loss: 0.1124 - acc: 0.9683 - val_loss: 0.2964 - val_acc: 0.8852\n",
      "Epoch 35/40\n",
      "15000/15000 [==============================] - 1s 84us/step - loss: 0.1084 - acc: 0.9705 - val_loss: 0.2981 - val_acc: 0.8856\n",
      "Epoch 36/40\n",
      "15000/15000 [==============================] - 1s 83us/step - loss: 0.1036 - acc: 0.9722 - val_loss: 0.3012 - val_acc: 0.8846\n",
      "Epoch 37/40\n",
      "15000/15000 [==============================] - 1s 86us/step - loss: 0.0998 - acc: 0.9736 - val_loss: 0.3042 - val_acc: 0.8837\n",
      "Epoch 38/40\n",
      "15000/15000 [==============================] - 1s 85us/step - loss: 0.0964 - acc: 0.9735 - val_loss: 0.3077 - val_acc: 0.8829\n",
      "Epoch 39/40\n",
      "15000/15000 [==============================] - 1s 86us/step - loss: 0.0921 - acc: 0.9763 - val_loss: 0.3101 - val_acc: 0.8837\n",
      "Epoch 40/40\n",
      "15000/15000 [==============================] - 1s 84us/step - loss: 0.0884 - acc: 0.9777 - val_loss: 0.3137 - val_acc: 0.8824\n"
     ]
    }
   ],
   "source": [
    "# 数据量大，分批次(单次训练512个数据)，总计40回合\n",
    "print(x_val.shape)\n",
    "history = model.fit(par_val,\n",
    "                    par_label,\n",
    "                    epochs=40,\n",
    "                    batch_size=512,\n",
    "                    validation_data=(x_val, x_label),\n",
    "                    verbose=1)"
   ]
  },
  {
   "cell_type": "markdown",
   "metadata": {},
   "source": [
    "### 评估模型 "
   ]
  },
  {
   "cell_type": "code",
   "execution_count": 17,
   "metadata": {},
   "outputs": [
    {
     "name": "stdout",
     "output_type": "stream",
     "text": [
      "25000/25000 [==============================] - 1s 24us/step\n",
      "0.334717641658783 0.87252\n"
     ]
    }
   ],
   "source": [
    "loss,acc = model.evaluate(test_data,test_label)\n",
    "print(loss,acc)"
   ]
  },
  {
   "cell_type": "markdown",
   "metadata": {},
   "source": [
    "### 创建准确率和损失随时间变化的图 "
   ]
  },
  {
   "cell_type": "code",
   "execution_count": 18,
   "metadata": {},
   "outputs": [
    {
     "data": {
      "text/plain": [
       "dict_keys(['val_loss', 'val_acc', 'loss', 'acc'])"
      ]
     },
     "execution_count": 18,
     "metadata": {},
     "output_type": "execute_result"
    }
   ],
   "source": [
    "# model.fit() 返回一个 History 对象\n",
    "history_dict = history.history\n",
    "history_dict.keys()"
   ]
  },
  {
   "cell_type": "code",
   "execution_count": null,
   "metadata": {},
   "outputs": [],
   "source": [
    "loss = history_dict['loss']\n",
    "acc = history_dict['acc']\n",
    "val_loss = history_dict['val_loss']\n",
    "val_acc = history_dict['val_acc']\n",
    "\n",
    "epochs = range(1,len(loss)+1)\n",
    "\n",
    "plt.subplot(1,2,1)\n",
    "plt.plot(epochs,loss,'bo',label=\"Trainning_loss\")\n",
    "plt.plot(epochs,val_loss,'b-',label=\"validation  loss\")\n",
    "plt.title(\"loss accuracy\")\n",
    "plt.xlabel(\"epochs\")\n",
    "plt.ylabel(\"loss\")\n",
    "\n",
    "plt.subplot(1,2,2)\n",
    "plt.plot(epochs,acc,'bo',label=\"Trainning_loss\")\n",
    "plt.plot(epochs,val_acc,'b-',label=\"validation  loss\")\n",
    "plt.title(\"loss accuracy\")\n",
    "plt.xlabel(\"epochs\")\n",
    "plt.ylabel(\"loss\")"
   ]
  }
 ],
 "metadata": {
  "kernelspec": {
   "display_name": "Python 3",
   "language": "python",
   "name": "python3"
  },
  "language_info": {
   "codemirror_mode": {
    "name": "ipython",
    "version": 3
   },
   "file_extension": ".py",
   "mimetype": "text/x-python",
   "name": "python",
   "nbconvert_exporter": "python",
   "pygments_lexer": "ipython3",
   "version": "3.6.0"
  }
 },
 "nbformat": 4,
 "nbformat_minor": 2
}
